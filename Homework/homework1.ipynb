machine learning is a lang.
